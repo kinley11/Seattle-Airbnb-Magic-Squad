{
 "cells": [
  {
   "cell_type": "markdown",
   "metadata": {},
   "source": [
    "# Magic Squad - Seattle AirBnB Prices\n",
    "\n",
    "The rental prices for listings on AirBnB vary greatly. Investigating and predicting the price of an AirBnB's rental would be beneficial in assisting the listers/owners how to price to potential renters and to the customers' looking to book a rental at the right cost.\n",
    "\n",
    "## Problem Statement\n",
    "Determine what factors contribute to the price of AirBnB listings in Seattle, WA and the solution is to have an understanding of the patterns and predictors of price."
   ]
  },
  {
   "cell_type": "code",
   "execution_count": 1,
   "metadata": {},
   "outputs": [],
   "source": [
    "import pandas as pd\n",
    "\n",
    "import numpy as np\n",
    "\n",
    "%matplotlib inline\n",
    "\n",
    "import matplotlib.pyplot as plt\n",
    "\n",
    "import seaborn as sns\n",
    "\n",
    "# For Calculations\n",
    "from math import floor\n",
    "\n",
    "#For Modeling\n",
    "from sklearn.model_selection import train_test_split\n",
    "from sklearn.preprocessing import MinMaxScaler\n",
    "from sklearn.model_selection import GridSearchCV\n",
    "from sklearn.linear_model import LinearRegression , Lasso, Ridge\n",
    "from sklearn.ensemble import RandomForestRegressor\n",
    "\n",
    "# For Validation\n",
    "from sklearn.metrics import mean_squared_error, accuracy_score\n",
    "\n",
    "# For Storing Models\n",
    "import pickle\n",
    "\n",
    "# For Warnings\n",
    "import warnings\n",
    "warnings.filterwarnings(\"ignore\")"
   ]
  },
  {
   "cell_type": "markdown",
   "metadata": {},
   "source": [
    "Three data files are used for this project. The data files were aquired through Kaggle site\n",
    "\n",
    "     1. listings.csv has Seattle AirBnB listing details\n",
    "     2. calendar.csv has Seattle AirBnB listing availability by dates and prices\n",
    "     3. Seattle_neighborhoods.csv has Seattle neighborhood data "
   ]
  },
  {
   "cell_type": "markdown",
   "metadata": {},
   "source": [
    "First we will load the data files"
   ]
  },
  {
   "cell_type": "code",
   "execution_count": 2,
   "metadata": {},
   "outputs": [],
   "source": [
    "listings = pd.read_csv('listings.csv')\n",
    "calendar = pd.read_csv('calendar.csv')\n",
    "neighscore = pd.read_csv('Seattle_neighborhoods.csv')"
   ]
  },
  {
   "cell_type": "markdown",
   "metadata": {},
   "source": [
    "Now take a look at column data to later do some clean up of the data"
   ]
  },
  {
   "cell_type": "code",
   "execution_count": 3,
   "metadata": {},
   "outputs": [
    {
     "name": "stdout",
     "output_type": "stream",
     "text": [
      "<class 'pandas.core.frame.DataFrame'>\n",
      "RangeIndex: 3818 entries, 0 to 3817\n",
      "Data columns (total 92 columns):\n",
      " #   Column                            Non-Null Count  Dtype  \n",
      "---  ------                            --------------  -----  \n",
      " 0   id                                3818 non-null   int64  \n",
      " 1   listing_url                       3818 non-null   object \n",
      " 2   scrape_id                         3818 non-null   int64  \n",
      " 3   last_scraped                      3818 non-null   object \n",
      " 4   name                              3818 non-null   object \n",
      " 5   summary                           3641 non-null   object \n",
      " 6   space                             3249 non-null   object \n",
      " 7   description                       3818 non-null   object \n",
      " 8   experiences_offered               3818 non-null   object \n",
      " 9   neighborhood_overview             2786 non-null   object \n",
      " 10  notes                             2212 non-null   object \n",
      " 11  transit                           2884 non-null   object \n",
      " 12  thumbnail_url                     3498 non-null   object \n",
      " 13  medium_url                        3498 non-null   object \n",
      " 14  picture_url                       3818 non-null   object \n",
      " 15  xl_picture_url                    3498 non-null   object \n",
      " 16  host_id                           3818 non-null   int64  \n",
      " 17  host_url                          3818 non-null   object \n",
      " 18  host_name                         3816 non-null   object \n",
      " 19  host_since                        3816 non-null   object \n",
      " 20  host_location                     3810 non-null   object \n",
      " 21  host_about                        2959 non-null   object \n",
      " 22  host_response_time                3295 non-null   object \n",
      " 23  host_response_rate                3295 non-null   object \n",
      " 24  host_acceptance_rate              3045 non-null   object \n",
      " 25  host_is_superhost                 3816 non-null   object \n",
      " 26  host_thumbnail_url                3816 non-null   object \n",
      " 27  host_picture_url                  3816 non-null   object \n",
      " 28  host_neighbourhood                3518 non-null   object \n",
      " 29  host_listings_count               3816 non-null   float64\n",
      " 30  host_total_listings_count         3816 non-null   float64\n",
      " 31  host_verifications                3818 non-null   object \n",
      " 32  host_has_profile_pic              3816 non-null   object \n",
      " 33  host_identity_verified            3816 non-null   object \n",
      " 34  street                            3818 non-null   object \n",
      " 35  neighbourhood                     3402 non-null   object \n",
      " 36  neighbourhood_cleansed            3818 non-null   object \n",
      " 37  neighbourhood_group_cleansed      3818 non-null   object \n",
      " 38  city                              3818 non-null   object \n",
      " 39  state                             3818 non-null   object \n",
      " 40  zipcode                           3811 non-null   object \n",
      " 41  market                            3818 non-null   object \n",
      " 42  smart_location                    3818 non-null   object \n",
      " 43  country_code                      3818 non-null   object \n",
      " 44  country                           3818 non-null   object \n",
      " 45  latitude                          3818 non-null   float64\n",
      " 46  longitude                         3818 non-null   float64\n",
      " 47  is_location_exact                 3818 non-null   object \n",
      " 48  property_type                     3817 non-null   object \n",
      " 49  room_type                         3818 non-null   object \n",
      " 50  accommodates                      3818 non-null   int64  \n",
      " 51  bathrooms                         3802 non-null   float64\n",
      " 52  bedrooms                          3812 non-null   float64\n",
      " 53  beds                              3817 non-null   float64\n",
      " 54  bed_type                          3818 non-null   object \n",
      " 55  amenities                         3818 non-null   object \n",
      " 56  square_feet                       97 non-null     float64\n",
      " 57  price                             3818 non-null   object \n",
      " 58  weekly_price                      2009 non-null   object \n",
      " 59  monthly_price                     1517 non-null   object \n",
      " 60  security_deposit                  1866 non-null   object \n",
      " 61  cleaning_fee                      2788 non-null   object \n",
      " 62  guests_included                   3818 non-null   int64  \n",
      " 63  extra_people                      3818 non-null   object \n",
      " 64  minimum_nights                    3818 non-null   int64  \n",
      " 65  maximum_nights                    3818 non-null   int64  \n",
      " 66  calendar_updated                  3818 non-null   object \n",
      " 67  has_availability                  3818 non-null   object \n",
      " 68  availability_30                   3818 non-null   int64  \n",
      " 69  availability_60                   3818 non-null   int64  \n",
      " 70  availability_90                   3818 non-null   int64  \n",
      " 71  availability_365                  3818 non-null   int64  \n",
      " 72  calendar_last_scraped             3818 non-null   object \n",
      " 73  number_of_reviews                 3818 non-null   int64  \n",
      " 74  first_review                      3191 non-null   object \n",
      " 75  last_review                       3191 non-null   object \n",
      " 76  review_scores_rating              3171 non-null   float64\n",
      " 77  review_scores_accuracy            3160 non-null   float64\n",
      " 78  review_scores_cleanliness         3165 non-null   float64\n",
      " 79  review_scores_checkin             3160 non-null   float64\n",
      " 80  review_scores_communication       3167 non-null   float64\n",
      " 81  review_scores_location            3163 non-null   float64\n",
      " 82  review_scores_value               3162 non-null   float64\n",
      " 83  requires_license                  3818 non-null   object \n",
      " 84  license                           0 non-null      float64\n",
      " 85  jurisdiction_names                3818 non-null   object \n",
      " 86  instant_bookable                  3818 non-null   object \n",
      " 87  cancellation_policy               3818 non-null   object \n",
      " 88  require_guest_profile_picture     3818 non-null   object \n",
      " 89  require_guest_phone_verification  3818 non-null   object \n",
      " 90  calculated_host_listings_count    3818 non-null   int64  \n",
      " 91  reviews_per_month                 3191 non-null   float64\n",
      "dtypes: float64(17), int64(13), object(62)\n",
      "memory usage: 2.7+ MB\n",
      "<class 'pandas.core.frame.DataFrame'>\n",
      "RangeIndex: 1393570 entries, 0 to 1393569\n",
      "Data columns (total 4 columns):\n",
      " #   Column      Non-Null Count    Dtype \n",
      "---  ------      --------------    ----- \n",
      " 0   listing_id  1393570 non-null  int64 \n",
      " 1   date        1393570 non-null  object\n",
      " 2   available   1393570 non-null  object\n",
      " 3   price       934542 non-null   object\n",
      "dtypes: int64(1), object(3)\n",
      "memory usage: 42.5+ MB\n",
      "<class 'pandas.core.frame.DataFrame'>\n",
      "RangeIndex: 86 entries, 0 to 85\n",
      "Data columns (total 6 columns):\n",
      " #   Column         Non-Null Count  Dtype \n",
      "---  ------         --------------  ----- \n",
      " 0   rank           86 non-null     int64 \n",
      " 1   name           86 non-null     object\n",
      " 2   walk_score     86 non-null     int64 \n",
      " 3   transit_score  86 non-null     int64 \n",
      " 4   bike_score     86 non-null     int64 \n",
      " 5   population     86 non-null     int64 \n",
      "dtypes: int64(5), object(1)\n",
      "memory usage: 4.2+ KB\n"
     ]
    }
   ],
   "source": [
    "listings.info()\n",
    "calendar.info()\n",
    "neighscore.info()"
   ]
  },
  {
   "cell_type": "markdown",
   "metadata": {},
   "source": [
    "### Data Cleaning:\n",
    "\n",
    "    Unused columns will be dropped.\n",
    "    Objects need to be converted to dates\n",
    "    Prices need to be converted to float\n",
    "    Handle missing/null values - modify or drop from data set"
   ]
  },
  {
   "cell_type": "markdown",
   "metadata": {},
   "source": [
    "#### Data Cleaning listings data"
   ]
  },
  {
   "cell_type": "code",
   "execution_count": 4,
   "metadata": {},
   "outputs": [
    {
     "name": "stdout",
     "output_type": "stream",
     "text": [
      "<class 'pandas.core.frame.DataFrame'>\n",
      "RangeIndex: 3818 entries, 0 to 3817\n",
      "Data columns (total 18 columns):\n",
      " #   Column                        Non-Null Count  Dtype  \n",
      "---  ------                        --------------  -----  \n",
      " 0   id                            3818 non-null   int64  \n",
      " 1   host_id                       3818 non-null   int64  \n",
      " 2   host_is_superhost             3816 non-null   object \n",
      " 3   neighbourhood_cleansed        3818 non-null   object \n",
      " 4   neighbourhood_group_cleansed  3818 non-null   object \n",
      " 5   property_type                 3817 non-null   object \n",
      " 6   room_type                     3818 non-null   object \n",
      " 7   accommodates                  3818 non-null   int64  \n",
      " 8   bathrooms                     3802 non-null   float64\n",
      " 9   bedrooms                      3812 non-null   float64\n",
      " 10  beds                          3817 non-null   float64\n",
      " 11  bed_type                      3818 non-null   object \n",
      " 12  amenities                     3818 non-null   object \n",
      " 13  price                         3818 non-null   float64\n",
      " 14  availability_365              3818 non-null   int64  \n",
      " 15  number_of_reviews             3818 non-null   int64  \n",
      " 16  instant_bookable              3818 non-null   object \n",
      " 17  cancellation_policy           3818 non-null   object \n",
      "dtypes: float64(4), int64(5), object(9)\n",
      "memory usage: 537.0+ KB\n"
     ]
    }
   ],
   "source": [
    "# Data Cleaning listings\n",
    "dropColumns = ['listing_url', 'scrape_id', 'last_scraped', 'name', 'summary',\n",
    "       'space', 'description', 'experiences_offered', 'neighborhood_overview',\n",
    "       'notes', 'transit', 'thumbnail_url', 'medium_url', 'picture_url',\n",
    "       'xl_picture_url',  'host_url', 'host_name', 'host_since',\n",
    "       'host_location', 'host_about', 'host_response_time','review_scores_location',\n",
    "       'host_response_rate', 'host_acceptance_rate', 'host_thumbnail_url', 'host_picture_url', \n",
    "       'host_neighbourhood','host_listings_count', 'host_total_listings_count',\n",
    "       'host_verifications', 'host_has_profile_pic', 'host_identity_verified',\n",
    "       'street', 'neighbourhood', 'city', 'state', 'zipcode', 'market',\n",
    "       'smart_location', 'country_code', 'country', 'latitude', 'longitude',\n",
    "       'is_location_exact', 'square_feet','weekly_price', 'security_deposit', 'cleaning_fee',\n",
    "       'guests_included', 'extra_people', 'minimum_nights', 'maximum_nights',\n",
    "       'calendar_updated', 'has_availability', 'availability_30',\n",
    "       'availability_60', 'availability_90','calendar_last_scraped',  'first_review','monthly_price',\n",
    "       'last_review', 'review_scores_rating', 'review_scores_accuracy',\n",
    "       'review_scores_cleanliness', 'review_scores_checkin','review_scores_communication', \n",
    "       'review_scores_value', 'requires_license', 'license','jurisdiction_names', \n",
    "       'require_guest_profile_picture', 'require_guest_phone_verification',\n",
    "       'calculated_host_listings_count', 'reviews_per_month']\n",
    "\n",
    "listings = listings.drop(columns = dropColumns)\n",
    "\n",
    "listings['price'] = listings['price'].apply(lambda x: x.replace('$',''))\n",
    "listings['price'] = listings['price'].apply(lambda x: x.replace(',',''))\n",
    "listings['price'] = listings['price'].astype(float)\n",
    "\n",
    "listings.info()"
   ]
  },
  {
   "cell_type": "markdown",
   "metadata": {},
   "source": [
    "These functions will show and handle missing values"
   ]
  },
  {
   "cell_type": "code",
   "execution_count": 5,
   "metadata": {},
   "outputs": [],
   "source": [
    "def show_missing_values(listings):\n",
    "    missing_vals = listings.isnull().sum().sort_values(ascending = False)\n",
    "    \n",
    "    return missing_vals.iloc[missing_vals.to_numpy().nonzero()[0]]\n",
    "\n",
    "def handle_missing_remove(df):\n",
    "    temp_df=df.copy()\n",
    "    temp_df.beds.fillna(0,inplace=True)\n",
    "    temp_df.bedrooms.fillna(0,inplace=True)\n",
    "    temp_df.bathrooms.fillna(0,inplace=True)\n",
    "    temp_df.host_is_superhost.fillna(0,inplace=True)\n",
    "    temp_df.property_type.fillna(0,inplace=True)\n",
    "     \n",
    "    return temp_df"
   ]
  },
  {
   "cell_type": "code",
   "execution_count": 6,
   "metadata": {},
   "outputs": [
    {
     "data": {
      "text/plain": [
       "Series([], dtype: int64)"
      ]
     },
     "execution_count": 6,
     "metadata": {},
     "output_type": "execute_result"
    }
   ],
   "source": [
    "# Apply function to handle missing values to listings and check if any are remaining\n",
    "\n",
    "listings=handle_missing_remove(listings)\n",
    "show_missing_values(listings)"
   ]
  },
  {
   "cell_type": "markdown",
   "metadata": {},
   "source": [
    "#### Data cleaning calendar data"
   ]
  },
  {
   "cell_type": "code",
   "execution_count": 7,
   "metadata": {},
   "outputs": [
    {
     "name": "stdout",
     "output_type": "stream",
     "text": [
      "<class 'pandas.core.frame.DataFrame'>\n",
      "Int64Index: 934542 entries, 0 to 1393213\n",
      "Data columns (total 2 columns):\n",
      " #   Column  Non-Null Count   Dtype         \n",
      "---  ------  --------------   -----         \n",
      " 0   date    934542 non-null  datetime64[ns]\n",
      " 1   price   934542 non-null  float64       \n",
      "dtypes: datetime64[ns](1), float64(1)\n",
      "memory usage: 21.4 MB\n"
     ]
    }
   ],
   "source": [
    "calendar = calendar.drop(columns = ['available','listing_id'])\n",
    "calendar = calendar.dropna()\n",
    "\n",
    "calendar['date'] = pd.to_datetime(calendar['date'], format = '%Y-%m-%d')\n",
    "\n",
    "calendar['price'] = calendar['price'].apply(lambda x: x.replace('$',''))\n",
    "calendar['price'] = calendar['price'].apply(lambda x: x.replace(',',''))\n",
    "calendar['price'] = calendar['price'].astype(float)\n",
    "\n",
    "calendar.sort_values('date')\n",
    "\n",
    "calendar.info()"
   ]
  },
  {
   "cell_type": "markdown",
   "metadata": {},
   "source": [
    "### Data Patterns and Visualization"
   ]
  },
  {
   "cell_type": "markdown",
   "metadata": {},
   "source": [
    "Look through listings data for patterns"
   ]
  },
  {
   "cell_type": "code",
   "execution_count": 9,
   "metadata": {},
   "outputs": [
    {
     "name": "stdout",
     "output_type": "stream",
     "text": [
      "             price\n",
      "count  3818.000000\n",
      "mean    127.976166\n",
      "std      90.250022\n",
      "min      20.000000\n",
      "25%      75.000000\n",
      "50%     100.000000\n",
      "75%     150.000000\n",
      "max    1000.000000\n",
      "\n",
      "Average Price is $128. Price is between $20 to $1,000 per night\n"
     ]
    }
   ],
   "source": [
    "print(listings[['price']].describe())\n",
    "\n",
    "print('\\nAverage Price is $128. Price is between $20 to $1,000 per night')"
   ]
  },
  {
   "cell_type": "code",
   "execution_count": 87,
   "metadata": {},
   "outputs": [
    {
     "data": {
      "text/plain": [
       "Text(0.5, 1.0, 'Price Density Listings')"
      ]
     },
     "execution_count": 87,
     "metadata": {},
     "output_type": "execute_result"
    },
    {
     "data": {
      "image/png": "[encoded data removed]",
      "text/plain": [
       "<Figure size 432x288 with 1 Axes>"
      ]
     },
     "metadata": {
      "needs_background": "light"
     },
     "output_type": "display_data"
    }
   ],
   "source": [
    "#Lets plot density of listing prices\n",
    "\n",
    "sns.distplot(listings[\"price\"])\n",
    "plt.title(\"Price Density Listings\")"
   ]
  },
  {
   "cell_type": "markdown",
   "metadata": {},
   "source": [
    "    Majority of the listings are less than $100"
   ]
  },
  {
   "cell_type": "code",
   "execution_count": 16,
   "metadata": {},
   "outputs": [
    {
     "data": {
      "text/plain": [
       "neighbourhood_group_cleansed\n",
       "Magnolia               177.672131\n",
       "Queen Anne             157.223729\n",
       "Downtown               154.405660\n",
       "West Seattle           141.359606\n",
       "Cascade                140.101124\n",
       "Capitol Hill           130.592593\n",
       "Central Area           128.338753\n",
       "Ballard                124.682609\n",
       "Other neighborhoods    119.968514\n",
       "Interbay               109.727273\n",
       "Seward Park            108.477273\n",
       "Beacon Hill             94.669492\n",
       "University District     93.639344\n",
       "Lake City               92.671642\n",
       "Rainier Valley          91.899371\n",
       "Northgate               88.550000\n",
       "Delridge                83.278481\n",
       "Name: price, dtype: float64"
      ]
     },
     "execution_count": 16,
     "metadata": {},
     "output_type": "execute_result"
    }
   ],
   "source": [
    "#Price by Average Neighboorhood\n",
    "\n",
    "ngPrice = listings.groupby('neighbourhood_group_cleansed')['price'].mean().sort_values(ascending = False)\n",
    "ngPrice"
   ]
  },
  {
   "cell_type": "markdown",
   "metadata": {},
   "source": [
    "    Magnolia has the highest average price, followed by Queen Anne and Downtown"
   ]
  },
  {
   "cell_type": "code",
   "execution_count": 17,
   "metadata": {},
   "outputs": [
    {
     "data": {
      "text/plain": [
       "Text(0.5, 1.0, 'Number of Listings in Seattle Neighbourhoods')"
      ]
     },
     "execution_count": 17,
     "metadata": {},
     "output_type": "execute_result"
    },
    {
     "data": {
      "image/png": "[encoded data removed]",
      "text/plain": [
       "<Figure size 720x360 with 1 Axes>"
      ]
     },
     "metadata": {
      "needs_background": "light"
     },
     "output_type": "display_data"
    }
   ],
   "source": [
    "# Let's see how many listings are there per neighbourhood\n",
    "plt.figure(figsize=(10,5))\n",
    "\n",
    "chart = sns.countplot(listings['neighbourhood_group_cleansed'])\n",
    "\n",
    "chart.set_xticklabels(chart.get_xticklabels(), rotation=45, horizontalalignment='right')\n",
    "plt.title('Number of Listings in Seattle Neighbourhoods')"
   ]
  },
  {
   "cell_type": "markdown",
   "metadata": {},
   "source": [
    "    Although Magnolia has highest average price, there are not many listings compared to other neighbourhoods\n",
    "    Queen Anne has almost 300 listings and Downtown has over 500 listings"
   ]
  },
  {
   "cell_type": "code",
   "execution_count": 18,
   "metadata": {
    "scrolled": false
   },
   "outputs": [
    {
     "data": {
      "text/plain": [
       "Text(0.5, 1.0, 'Availability by Neighbourhood')"
      ]
     },
     "execution_count": 18,
     "metadata": {},
     "output_type": "execute_result"
    },
    {
     "data": {
      "image/png": "[encoded data removed]",
      "text/plain": [
       "<Figure size 720x360 with 1 Axes>"
      ]
     },
     "metadata": {
      "needs_background": "light"
     },
     "output_type": "display_data"
    }
   ],
   "source": [
    "#Lets look at the availability through the year by neighbourhood using Boxplot\n",
    "plt.figure(figsize=(10,5))\n",
    "\n",
    "chart = sns.boxplot(x = listings['neighbourhood_group_cleansed'], y = listings['availability_365'])\n",
    "chart.set_xticklabels(chart.get_xticklabels(), rotation=45, horizontalalignment='right')\n",
    "plt.title('Availability by Neighbourhood')"
   ]
  },
  {
   "cell_type": "markdown",
   "metadata": {},
   "source": [
    "    Magnolia is largely available 3/4s of the year, with a listing outlier that has no availability"
   ]
  },
  {
   "cell_type": "code",
   "execution_count": 19,
   "metadata": {},
   "outputs": [
    {
     "data": {
      "text/plain": [
       "<AxesSubplot:>"
      ]
     },
     "execution_count": 19,
     "metadata": {},
     "output_type": "execute_result"
    },
    {
     "data": {
      "image/png": "[encoded data removed]",
      "text/plain": [
       "<Figure size 432x288 with 1 Axes>"
      ]
     },
     "metadata": {
      "needs_background": "light"
     },
     "output_type": "display_data"
    }
   ],
   "source": [
    "#Top 10 host with most listing\n",
    "host_id_counts = listings[\"host_id\"].value_counts().sort_values(ascending = False).nlargest(10)\n",
    "host_id_counts\n",
    "host_id_counts.T.plot(kind='bar')"
   ]
  },
  {
   "cell_type": "code",
   "execution_count": 20,
   "metadata": {},
   "outputs": [
    {
     "data": {
      "text/plain": [
       "Text(0.5, 1.0, 'Room Types')"
      ]
     },
     "execution_count": 20,
     "metadata": {},
     "output_type": "execute_result"
    },
    {
     "data": {
      "image/png": "[encoded data removed]",
      "text/plain": [
       "<Figure size 432x288 with 1 Axes>"
      ]
     },
     "metadata": {},
     "output_type": "display_data"
    }
   ],
   "source": [
    "#Let's look at what room types are available\n",
    "\n",
    "roomtypes = listings[\"room_type\"].value_counts()\n",
    "labels = roomtypes.keys()\n",
    "plt.pie(x=roomtypes, autopct=\"%.1f%%\", labels=labels, pctdistance=0.5)\n",
    "plt.title(\"Room Types\")"
   ]
  },
  {
   "cell_type": "markdown",
   "metadata": {},
   "source": [
    "    Two thirds of the rooms available are entire home/apts"
   ]
  },
  {
   "cell_type": "markdown",
   "metadata": {},
   "source": [
    "Now let's see how the listing prices are throughout the year in our calendar data"
   ]
  },
  {
   "cell_type": "code",
   "execution_count": 21,
   "metadata": {},
   "outputs": [
    {
     "name": "stdout",
     "output_type": "stream",
     "text": [
      "This data is for dates between 2016-01-04 00:00:00 and 2017-01-02 00:00:00\n"
     ]
    }
   ],
   "source": [
    "print('This data is for dates between',calendar['date'].min(),'and',calendar['date'].max())"
   ]
  },
  {
   "cell_type": "code",
   "execution_count": 22,
   "metadata": {
    "scrolled": false
   },
   "outputs": [
    {
     "data": {
      "text/plain": [
       "date\n",
       "2016-01-01    121.692505\n",
       "2016-02-01    124.315614\n",
       "2016-03-01    128.640797\n",
       "2016-04-01    135.109460\n",
       "2016-05-01    139.539566\n",
       "2016-06-01    147.469191\n",
       "2016-07-01    152.102977\n",
       "2016-08-01    150.657032\n",
       "2016-09-01    143.277182\n",
       "2016-10-01    137.033871\n",
       "2016-11-01    135.687825\n",
       "2016-12-01    137.238611\n",
       "Freq: MS, Name: price, dtype: float64"
      ]
     },
     "execution_count": 22,
     "metadata": {},
     "output_type": "execute_result"
    }
   ],
   "source": [
    "#Take a look at avg price by month\n",
    "\n",
    "calendar = calendar.groupby('date')['price'].mean().reset_index()\n",
    "calendar = calendar.set_index('date')\n",
    "\n",
    "y = calendar['price'].resample('MS').mean()\n",
    "y['2016']\n"
   ]
  },
  {
   "cell_type": "code",
   "execution_count": 23,
   "metadata": {},
   "outputs": [
    {
     "data": {
      "image/png": "[encoded data removed]",
      "text/plain": [
       "<Figure size 1080x432 with 1 Axes>"
      ]
     },
     "metadata": {
      "needs_background": "light"
     },
     "output_type": "display_data"
    }
   ],
   "source": [
    "#Plot Avg Monthly Price\n",
    "y.plot(figsize=(15,6))\n",
    "plt.title('Seattle AirBnB Prices')\n",
    "plt.show()"
   ]
  },
  {
   "cell_type": "markdown",
   "metadata": {},
   "source": [
    "    Average Peak Month Prices for the Seattle Market is June - August"
   ]
  },
  {
   "cell_type": "markdown",
   "metadata": {},
   "source": [
    "### Predictive Modeling of Price"
   ]
  },
  {
   "cell_type": "markdown",
   "metadata": {
    "scrolled": false
   },
   "source": [
    "    Create dummy columns for categorical data"
   ]
  },
  {
   "cell_type": "code",
   "execution_count": 24,
   "metadata": {},
   "outputs": [
    {
     "name": "stdout",
     "output_type": "stream",
     "text": [
      "<class 'pandas.core.frame.DataFrame'>\n",
      "RangeIndex: 3818 entries, 0 to 3817\n",
      "Data columns (total 46 columns):\n",
      " #   Column                         Non-Null Count  Dtype  \n",
      "---  ------                         --------------  -----  \n",
      " 0   id                             3818 non-null   int64  \n",
      " 1   host_id                        3818 non-null   int64  \n",
      " 2   host_is_superhost              3818 non-null   object \n",
      " 3   neighbourhood_cleansed         3818 non-null   object \n",
      " 4   neighbourhood_group_cleansed   3818 non-null   object \n",
      " 5   property_type                  3818 non-null   object \n",
      " 6   room_type                      3818 non-null   object \n",
      " 7   accommodates                   3818 non-null   int64  \n",
      " 8   bathrooms                      3818 non-null   float64\n",
      " 9   bedrooms                       3818 non-null   float64\n",
      " 10  beds                           3818 non-null   float64\n",
      " 11  bed_type                       3818 non-null   object \n",
      " 12  amenities                      3818 non-null   object \n",
      " 13  price                          3818 non-null   float64\n",
      " 14  availability_365               3818 non-null   int64  \n",
      " 15  number_of_reviews              3818 non-null   int64  \n",
      " 16  instant_bookable               3818 non-null   object \n",
      " 17  cancellation_policy            3818 non-null   object \n",
      " 18  room_type_Entire home/apt      3818 non-null   uint8  \n",
      " 19  room_type_Private room         3818 non-null   uint8  \n",
      " 20  room_type_Shared room          3818 non-null   uint8  \n",
      " 21  property_type_0                3818 non-null   uint8  \n",
      " 22  property_type_Apartment        3818 non-null   uint8  \n",
      " 23  property_type_Bed & Breakfast  3818 non-null   uint8  \n",
      " 24  property_type_Boat             3818 non-null   uint8  \n",
      " 25  property_type_Bungalow         3818 non-null   uint8  \n",
      " 26  property_type_Cabin            3818 non-null   uint8  \n",
      " 27  property_type_Camper/RV        3818 non-null   uint8  \n",
      " 28  property_type_Chalet           3818 non-null   uint8  \n",
      " 29  property_type_Condominium      3818 non-null   uint8  \n",
      " 30  property_type_Dorm             3818 non-null   uint8  \n",
      " 31  property_type_House            3818 non-null   uint8  \n",
      " 32  property_type_Loft             3818 non-null   uint8  \n",
      " 33  property_type_Other            3818 non-null   uint8  \n",
      " 34  property_type_Tent             3818 non-null   uint8  \n",
      " 35  property_type_Townhouse        3818 non-null   uint8  \n",
      " 36  property_type_Treehouse        3818 non-null   uint8  \n",
      " 37  property_type_Yurt             3818 non-null   uint8  \n",
      " 38  bed_type_Airbed                3818 non-null   uint8  \n",
      " 39  bed_type_Couch                 3818 non-null   uint8  \n",
      " 40  bed_type_Futon                 3818 non-null   uint8  \n",
      " 41  bed_type_Pull-out Sofa         3818 non-null   uint8  \n",
      " 42  bed_type_Real Bed              3818 non-null   uint8  \n",
      " 43  cancellation_policy_flexible   3818 non-null   uint8  \n",
      " 44  cancellation_policy_moderate   3818 non-null   uint8  \n",
      " 45  cancellation_policy_strict     3818 non-null   uint8  \n",
      "dtypes: float64(4), int64(5), object(9), uint8(28)\n",
      "memory usage: 641.4+ KB\n"
     ]
    }
   ],
   "source": [
    "#Create dummy columns for room_type, property_type, bed_type, and cancellation_policy\n",
    "def create_dummies(listings, columns = ['room_type', 'property_type', 'bed_type', 'cancellation_policy']):\n",
    "    for column in columns:\n",
    "        dummies = pd.get_dummies(listings[column], prefix = column)\n",
    "        listings = pd.concat([listings,dummies], axis = 1)\n",
    "    return listings\n",
    "\n",
    "listings = create_dummies(listings)\n",
    "listings.info()"
   ]
  },
  {
   "cell_type": "code",
   "execution_count": 42,
   "metadata": {},
   "outputs": [
    {
     "data": {
      "text/html": [
       "<div>\n",
       "<style scoped>\n",
       "    .dataframe tbody tr th:only-of-type {\n",
       "        vertical-align: middle;\n",
       "    }\n",
       "\n",
       "    .dataframe tbody tr th {\n",
       "        vertical-align: top;\n",
       "    }\n",
       "\n",
       "    .dataframe thead th {\n",
       "        text-align: right;\n",
       "    }\n",
       "</style>\n",
       "<table border=\"1\" class=\"dataframe\">\n",
       "  <thead>\n",
       "    <tr style=\"text-align: right;\">\n",
       "      <th></th>\n",
       "      <th>24-Hour Check-in</th>\n",
       "      <th>Air Conditioning</th>\n",
       "      <th>Breakfast</th>\n",
       "      <th>Buzzer/Wireless Intercom</th>\n",
       "      <th>Cable TV</th>\n",
       "      <th>Carbon Monoxide Detector</th>\n",
       "      <th>Cat(s)</th>\n",
       "      <th>Dog(s)</th>\n",
       "      <th>Doorman</th>\n",
       "      <th>Dryer</th>\n",
       "      <th>...</th>\n",
       "      <th>Shampoo</th>\n",
       "      <th>Smoke Detector</th>\n",
       "      <th>Smoking Allowed</th>\n",
       "      <th>Suitable for Events</th>\n",
       "      <th>TV</th>\n",
       "      <th>Washer</th>\n",
       "      <th>Washer / Dryer</th>\n",
       "      <th>Wheelchair Accessible</th>\n",
       "      <th>Wireless Internet</th>\n",
       "      <th>id</th>\n",
       "    </tr>\n",
       "  </thead>\n",
       "  <tbody>\n",
       "    <tr>\n",
       "      <th>0</th>\n",
       "      <td>False</td>\n",
       "      <td>True</td>\n",
       "      <td>False</td>\n",
       "      <td>False</td>\n",
       "      <td>True</td>\n",
       "      <td>False</td>\n",
       "      <td>False</td>\n",
       "      <td>False</td>\n",
       "      <td>False</td>\n",
       "      <td>True</td>\n",
       "      <td>...</td>\n",
       "      <td>False</td>\n",
       "      <td>False</td>\n",
       "      <td>False</td>\n",
       "      <td>False</td>\n",
       "      <td>True</td>\n",
       "      <td>True</td>\n",
       "      <td>False</td>\n",
       "      <td>False</td>\n",
       "      <td>True</td>\n",
       "      <td>241032</td>\n",
       "    </tr>\n",
       "    <tr>\n",
       "      <th>1</th>\n",
       "      <td>False</td>\n",
       "      <td>False</td>\n",
       "      <td>False</td>\n",
       "      <td>True</td>\n",
       "      <td>False</td>\n",
       "      <td>True</td>\n",
       "      <td>False</td>\n",
       "      <td>False</td>\n",
       "      <td>False</td>\n",
       "      <td>True</td>\n",
       "      <td>...</td>\n",
       "      <td>False</td>\n",
       "      <td>True</td>\n",
       "      <td>False</td>\n",
       "      <td>False</td>\n",
       "      <td>True</td>\n",
       "      <td>True</td>\n",
       "      <td>False</td>\n",
       "      <td>False</td>\n",
       "      <td>True</td>\n",
       "      <td>953595</td>\n",
       "    </tr>\n",
       "    <tr>\n",
       "      <th>2</th>\n",
       "      <td>False</td>\n",
       "      <td>True</td>\n",
       "      <td>False</td>\n",
       "      <td>False</td>\n",
       "      <td>True</td>\n",
       "      <td>True</td>\n",
       "      <td>True</td>\n",
       "      <td>True</td>\n",
       "      <td>False</td>\n",
       "      <td>True</td>\n",
       "      <td>...</td>\n",
       "      <td>True</td>\n",
       "      <td>True</td>\n",
       "      <td>False</td>\n",
       "      <td>False</td>\n",
       "      <td>True</td>\n",
       "      <td>True</td>\n",
       "      <td>False</td>\n",
       "      <td>False</td>\n",
       "      <td>True</td>\n",
       "      <td>3308979</td>\n",
       "    </tr>\n",
       "    <tr>\n",
       "      <th>3</th>\n",
       "      <td>False</td>\n",
       "      <td>False</td>\n",
       "      <td>False</td>\n",
       "      <td>False</td>\n",
       "      <td>False</td>\n",
       "      <td>True</td>\n",
       "      <td>False</td>\n",
       "      <td>False</td>\n",
       "      <td>False</td>\n",
       "      <td>True</td>\n",
       "      <td>...</td>\n",
       "      <td>True</td>\n",
       "      <td>True</td>\n",
       "      <td>False</td>\n",
       "      <td>False</td>\n",
       "      <td>False</td>\n",
       "      <td>True</td>\n",
       "      <td>False</td>\n",
       "      <td>False</td>\n",
       "      <td>True</td>\n",
       "      <td>7421966</td>\n",
       "    </tr>\n",
       "    <tr>\n",
       "      <th>4</th>\n",
       "      <td>False</td>\n",
       "      <td>False</td>\n",
       "      <td>False</td>\n",
       "      <td>False</td>\n",
       "      <td>True</td>\n",
       "      <td>True</td>\n",
       "      <td>False</td>\n",
       "      <td>False</td>\n",
       "      <td>False</td>\n",
       "      <td>False</td>\n",
       "      <td>...</td>\n",
       "      <td>True</td>\n",
       "      <td>True</td>\n",
       "      <td>False</td>\n",
       "      <td>False</td>\n",
       "      <td>True</td>\n",
       "      <td>False</td>\n",
       "      <td>False</td>\n",
       "      <td>False</td>\n",
       "      <td>True</td>\n",
       "      <td>278830</td>\n",
       "    </tr>\n",
       "  </tbody>\n",
       "</table>\n",
       "<p>5 rows × 42 columns</p>\n",
       "</div>"
      ],
      "text/plain": [
       "   24-Hour Check-in  Air Conditioning  Breakfast  Buzzer/Wireless Intercom  \\\n",
       "0             False              True      False                     False   \n",
       "1             False             False      False                      True   \n",
       "2             False              True      False                     False   \n",
       "3             False             False      False                     False   \n",
       "4             False             False      False                     False   \n",
       "\n",
       "   Cable TV  Carbon Monoxide Detector  Cat(s)  Dog(s)  Doorman  Dryer  ...  \\\n",
       "0      True                     False   False   False    False   True  ...   \n",
       "1     False                      True   False   False    False   True  ...   \n",
       "2      True                      True    True    True    False   True  ...   \n",
       "3     False                      True   False   False    False   True  ...   \n",
       "4      True                      True   False   False    False  False  ...   \n",
       "\n",
       "   Shampoo  Smoke Detector  Smoking Allowed  Suitable for Events     TV  \\\n",
       "0    False           False            False                False   True   \n",
       "1    False            True            False                False   True   \n",
       "2     True            True            False                False   True   \n",
       "3     True            True            False                False  False   \n",
       "4     True            True            False                False   True   \n",
       "\n",
       "   Washer  Washer / Dryer  Wheelchair Accessible  Wireless Internet       id  \n",
       "0    True           False                  False               True   241032  \n",
       "1    True           False                  False               True   953595  \n",
       "2    True           False                  False               True  3308979  \n",
       "3    True           False                  False               True  7421966  \n",
       "4   False           False                  False               True   278830  \n",
       "\n",
       "[5 rows x 42 columns]"
      ]
     },
     "execution_count": 42,
     "metadata": {},
     "output_type": "execute_result"
    }
   ],
   "source": [
    "#Dummy columns for amenities as boolean\n",
    "\n",
    "#Blank missing values\n",
    "listings.loc[listings['amenities'] == '{}','amenities'] = \"\"\n",
    "#Remove symbols and split with | as separator\n",
    "listings['amenities'] = listings['amenities'].map(\n",
    "    lambda amns: \"|\".join([amn.replace(\"}\", \"\").replace(\"{\", \"\").replace('\"', \"\")\\\n",
    "                           for amn in amns.split(\",\")]))\n",
    "#Get the unique of amenities\n",
    "amenities = np.unique(np.concatenate(listings['amenities'].map(lambda amns: amns.split(\"|\")).values))\n",
    "#Map amenities to listings\n",
    "amenities_matrix = np.array([listings['amenities'].map(lambda amns: amn in amns).values for amn in amenities])\n",
    "#Create dataframe amenities with boolean values\n",
    "amen=pd.DataFrame(data=amenities_matrix.T, columns=amenities)\n",
    "#Concat the listing id to dataframe\n",
    "listings_amenities = pd.concat([amen,listings['id']], axis=1)\n",
    "#Remove first blank column\n",
    "listings_amenities= listings_amenities.drop(\"\",axis=1)\n",
    "\n",
    "listings_amenities.head()"
   ]
  },
  {
   "cell_type": "code",
   "execution_count": 46,
   "metadata": {},
   "outputs": [],
   "source": [
    "#Create dictionary to categorize amenities into groups\n",
    "amenity_recode={\n",
    "                'Air Conditioning':'Weather Control',\n",
    "                'Indoor Fireplace':'Weather Control',\n",
    "                'Heating':'Weather Control',\n",
    "        \n",
    "                'Carbon Monoxide Detector':'Safety Features',\n",
    "                'Fire Extinguisher':'Safety Features',\n",
    "                'First Aid Kit':'Safety Features',\n",
    "                'Smoke Detector':'Safety Features',\n",
    "                \n",
    "                'Buzzer/Wireless Intercom':'Security Features',\n",
    "                'Doorman':'Security Features',\n",
    "                'Safety Card':'Security Features',\n",
    "                'Lock on Bedroom Door':'Security Features',\n",
    "                \n",
    "                'Cat(s)':'Pet Friendly',\n",
    "                'Dog(s)':'Pet Friendly',\n",
    "                'Pets Allowed':'Pet Friendly',\n",
    "                'Pets live on this property':'Pet Friendly',\n",
    "                'Other pet(s)':'Pet Friendly',\n",
    "                \n",
    "                'Elevator in Building':'Access Friendly',\n",
    "                'Wheelchair Accessible':'Access Friendly',\n",
    "                \n",
    "                'Essentials':'Essentials',\n",
    "                'Hair Dryer':'Essentials',\n",
    "                'Hangers':'Essentials',\n",
    "                'Iron':'Essentials',\n",
    "                'Shampoo':'Essentials',             \n",
    "                \n",
    "                'Cable TV':'TV',\n",
    "                'TV':'TV',\n",
    "                \n",
    "                'Internet':'Internet',\n",
    "                'Wireless Internet':'Internet',\n",
    "                'Laptop Friendly Workspace':'Internet',\n",
    "                \n",
    "                'Dryer':'Laundry Facility',\n",
    "                'Washer':'Laundry Facility',\n",
    "                'Washer / Dryer':'Laundry Facility',\n",
    "    \n",
    "                #Remaining amenities which cannot be grouped\n",
    "                #'Kitchen',\n",
    "                #'Family/Kid Friendly', \n",
    "                #'Free Parking on Premises',\n",
    "                #'Breakfast',\n",
    "                #'24-Hour Check-in',\n",
    "                #'Hot Tub',\n",
    "                #'Pool',\n",
    "                #'Gym',\n",
    "                #'Smoking Allowed',\n",
    "                #'Suitable for Events'\n",
    "}"
   ]
  },
  {
   "cell_type": "code",
   "execution_count": 49,
   "metadata": {},
   "outputs": [],
   "source": [
    "#Melt the amenities with dictionary and add column\n",
    "#Melt the amenities dataframe and recode from the dictionary\n",
    "listings_amenities_melt = listings_amenities.melt(id_vars=['id'], var_name='amenity')\n",
    "\n",
    "#Recoding and putting in new column called amenity_modified\n",
    "listings_amenities_melt = listings_amenities_melt.assign(\n",
    "    amenity_modified = listings_amenities_melt.amenity.replace(amenity_recode))\n",
    "\n"
   ]
  },
  {
   "cell_type": "code",
   "execution_count": 50,
   "metadata": {},
   "outputs": [
    {
     "data": {
      "text/html": [
       "<div>\n",
       "<style scoped>\n",
       "    .dataframe tbody tr th:only-of-type {\n",
       "        vertical-align: middle;\n",
       "    }\n",
       "\n",
       "    .dataframe tbody tr th {\n",
       "        vertical-align: top;\n",
       "    }\n",
       "\n",
       "    .dataframe thead th {\n",
       "        text-align: right;\n",
       "    }\n",
       "</style>\n",
       "<table border=\"1\" class=\"dataframe\">\n",
       "  <thead>\n",
       "    <tr style=\"text-align: right;\">\n",
       "      <th></th>\n",
       "      <th>id</th>\n",
       "      <th>amenity</th>\n",
       "      <th>value</th>\n",
       "      <th>amenity_modified</th>\n",
       "    </tr>\n",
       "  </thead>\n",
       "  <tbody>\n",
       "    <tr>\n",
       "      <th>0</th>\n",
       "      <td>241032</td>\n",
       "      <td>24-Hour Check-in</td>\n",
       "      <td>False</td>\n",
       "      <td>24-Hour Check-in</td>\n",
       "    </tr>\n",
       "    <tr>\n",
       "      <th>1</th>\n",
       "      <td>953595</td>\n",
       "      <td>24-Hour Check-in</td>\n",
       "      <td>False</td>\n",
       "      <td>24-Hour Check-in</td>\n",
       "    </tr>\n",
       "    <tr>\n",
       "      <th>2</th>\n",
       "      <td>3308979</td>\n",
       "      <td>24-Hour Check-in</td>\n",
       "      <td>False</td>\n",
       "      <td>24-Hour Check-in</td>\n",
       "    </tr>\n",
       "    <tr>\n",
       "      <th>3</th>\n",
       "      <td>7421966</td>\n",
       "      <td>24-Hour Check-in</td>\n",
       "      <td>False</td>\n",
       "      <td>24-Hour Check-in</td>\n",
       "    </tr>\n",
       "    <tr>\n",
       "      <th>4</th>\n",
       "      <td>278830</td>\n",
       "      <td>24-Hour Check-in</td>\n",
       "      <td>False</td>\n",
       "      <td>24-Hour Check-in</td>\n",
       "    </tr>\n",
       "  </tbody>\n",
       "</table>\n",
       "</div>"
      ],
      "text/plain": [
       "        id           amenity  value  amenity_modified\n",
       "0   241032  24-Hour Check-in  False  24-Hour Check-in\n",
       "1   953595  24-Hour Check-in  False  24-Hour Check-in\n",
       "2  3308979  24-Hour Check-in  False  24-Hour Check-in\n",
       "3  7421966  24-Hour Check-in  False  24-Hour Check-in\n",
       "4   278830  24-Hour Check-in  False  24-Hour Check-in"
      ]
     },
     "execution_count": 50,
     "metadata": {},
     "output_type": "execute_result"
    }
   ],
   "source": [
    "listings_amenities_melt.head()"
   ]
  },
  {
   "cell_type": "code",
   "execution_count": 52,
   "metadata": {},
   "outputs": [
    {
     "data": {
      "text/html": [
       "<div>\n",
       "<style scoped>\n",
       "    .dataframe tbody tr th:only-of-type {\n",
       "        vertical-align: middle;\n",
       "    }\n",
       "\n",
       "    .dataframe tbody tr th {\n",
       "        vertical-align: top;\n",
       "    }\n",
       "\n",
       "    .dataframe thead th {\n",
       "        text-align: right;\n",
       "    }\n",
       "</style>\n",
       "<table border=\"1\" class=\"dataframe\">\n",
       "  <thead>\n",
       "    <tr style=\"text-align: right;\">\n",
       "      <th></th>\n",
       "      <th>id</th>\n",
       "      <th>host_id</th>\n",
       "      <th>host_is_superhost</th>\n",
       "      <th>neighbourhood_cleansed</th>\n",
       "      <th>neighbourhood_group_cleansed</th>\n",
       "      <th>property_type</th>\n",
       "      <th>room_type</th>\n",
       "      <th>accommodates</th>\n",
       "      <th>bathrooms</th>\n",
       "      <th>bedrooms</th>\n",
       "      <th>...</th>\n",
       "      <th>Kitchen</th>\n",
       "      <th>Laundry Facility</th>\n",
       "      <th>Pet Friendly</th>\n",
       "      <th>Pool</th>\n",
       "      <th>Safety Features</th>\n",
       "      <th>Security Features</th>\n",
       "      <th>Smoking Allowed</th>\n",
       "      <th>Suitable for Events</th>\n",
       "      <th>TV</th>\n",
       "      <th>Weather Control</th>\n",
       "    </tr>\n",
       "  </thead>\n",
       "  <tbody>\n",
       "    <tr>\n",
       "      <th>0</th>\n",
       "      <td>241032</td>\n",
       "      <td>956883</td>\n",
       "      <td>f</td>\n",
       "      <td>West Queen Anne</td>\n",
       "      <td>Queen Anne</td>\n",
       "      <td>Apartment</td>\n",
       "      <td>Entire home/apt</td>\n",
       "      <td>4</td>\n",
       "      <td>1.0</td>\n",
       "      <td>1.0</td>\n",
       "      <td>...</td>\n",
       "      <td>True</td>\n",
       "      <td>True</td>\n",
       "      <td>False</td>\n",
       "      <td>False</td>\n",
       "      <td>False</td>\n",
       "      <td>False</td>\n",
       "      <td>False</td>\n",
       "      <td>False</td>\n",
       "      <td>True</td>\n",
       "      <td>True</td>\n",
       "    </tr>\n",
       "    <tr>\n",
       "      <th>1</th>\n",
       "      <td>953595</td>\n",
       "      <td>5177328</td>\n",
       "      <td>t</td>\n",
       "      <td>West Queen Anne</td>\n",
       "      <td>Queen Anne</td>\n",
       "      <td>Apartment</td>\n",
       "      <td>Entire home/apt</td>\n",
       "      <td>4</td>\n",
       "      <td>1.0</td>\n",
       "      <td>1.0</td>\n",
       "      <td>...</td>\n",
       "      <td>True</td>\n",
       "      <td>True</td>\n",
       "      <td>False</td>\n",
       "      <td>False</td>\n",
       "      <td>True</td>\n",
       "      <td>True</td>\n",
       "      <td>False</td>\n",
       "      <td>False</td>\n",
       "      <td>True</td>\n",
       "      <td>True</td>\n",
       "    </tr>\n",
       "    <tr>\n",
       "      <th>2</th>\n",
       "      <td>3308979</td>\n",
       "      <td>16708587</td>\n",
       "      <td>f</td>\n",
       "      <td>West Queen Anne</td>\n",
       "      <td>Queen Anne</td>\n",
       "      <td>House</td>\n",
       "      <td>Entire home/apt</td>\n",
       "      <td>11</td>\n",
       "      <td>4.5</td>\n",
       "      <td>5.0</td>\n",
       "      <td>...</td>\n",
       "      <td>True</td>\n",
       "      <td>True</td>\n",
       "      <td>True</td>\n",
       "      <td>False</td>\n",
       "      <td>True</td>\n",
       "      <td>False</td>\n",
       "      <td>False</td>\n",
       "      <td>False</td>\n",
       "      <td>True</td>\n",
       "      <td>True</td>\n",
       "    </tr>\n",
       "    <tr>\n",
       "      <th>3</th>\n",
       "      <td>7421966</td>\n",
       "      <td>9851441</td>\n",
       "      <td>f</td>\n",
       "      <td>West Queen Anne</td>\n",
       "      <td>Queen Anne</td>\n",
       "      <td>Apartment</td>\n",
       "      <td>Entire home/apt</td>\n",
       "      <td>3</td>\n",
       "      <td>1.0</td>\n",
       "      <td>0.0</td>\n",
       "      <td>...</td>\n",
       "      <td>True</td>\n",
       "      <td>True</td>\n",
       "      <td>False</td>\n",
       "      <td>False</td>\n",
       "      <td>True</td>\n",
       "      <td>True</td>\n",
       "      <td>False</td>\n",
       "      <td>False</td>\n",
       "      <td>False</td>\n",
       "      <td>True</td>\n",
       "    </tr>\n",
       "    <tr>\n",
       "      <th>4</th>\n",
       "      <td>278830</td>\n",
       "      <td>1452570</td>\n",
       "      <td>f</td>\n",
       "      <td>West Queen Anne</td>\n",
       "      <td>Queen Anne</td>\n",
       "      <td>House</td>\n",
       "      <td>Entire home/apt</td>\n",
       "      <td>6</td>\n",
       "      <td>2.0</td>\n",
       "      <td>3.0</td>\n",
       "      <td>...</td>\n",
       "      <td>True</td>\n",
       "      <td>False</td>\n",
       "      <td>False</td>\n",
       "      <td>False</td>\n",
       "      <td>True</td>\n",
       "      <td>False</td>\n",
       "      <td>False</td>\n",
       "      <td>False</td>\n",
       "      <td>True</td>\n",
       "      <td>True</td>\n",
       "    </tr>\n",
       "  </tbody>\n",
       "</table>\n",
       "<p>5 rows × 65 columns</p>\n",
       "</div>"
      ],
      "text/plain": [
       "        id   host_id host_is_superhost neighbourhood_cleansed  \\\n",
       "0   241032    956883                 f        West Queen Anne   \n",
       "1   953595   5177328                 t        West Queen Anne   \n",
       "2  3308979  16708587                 f        West Queen Anne   \n",
       "3  7421966   9851441                 f        West Queen Anne   \n",
       "4   278830   1452570                 f        West Queen Anne   \n",
       "\n",
       "  neighbourhood_group_cleansed property_type        room_type  accommodates  \\\n",
       "0                   Queen Anne     Apartment  Entire home/apt             4   \n",
       "1                   Queen Anne     Apartment  Entire home/apt             4   \n",
       "2                   Queen Anne         House  Entire home/apt            11   \n",
       "3                   Queen Anne     Apartment  Entire home/apt             3   \n",
       "4                   Queen Anne         House  Entire home/apt             6   \n",
       "\n",
       "   bathrooms  bedrooms  ...  Kitchen Laundry Facility Pet Friendly   Pool  \\\n",
       "0        1.0       1.0  ...     True             True        False  False   \n",
       "1        1.0       1.0  ...     True             True        False  False   \n",
       "2        4.5       5.0  ...     True             True         True  False   \n",
       "3        1.0       0.0  ...     True             True        False  False   \n",
       "4        2.0       3.0  ...     True            False        False  False   \n",
       "\n",
       "   Safety Features  Security Features Smoking Allowed Suitable for Events  \\\n",
       "0            False              False           False               False   \n",
       "1             True               True           False               False   \n",
       "2             True              False           False               False   \n",
       "3             True               True           False               False   \n",
       "4             True              False           False               False   \n",
       "\n",
       "      TV  Weather Control  \n",
       "0   True             True  \n",
       "1   True             True  \n",
       "2   True             True  \n",
       "3  False             True  \n",
       "4   True             True  \n",
       "\n",
       "[5 rows x 65 columns]"
      ]
     },
     "execution_count": 52,
     "metadata": {},
     "output_type": "execute_result"
    }
   ],
   "source": [
    "#Pivot the melted dataframe and join with original dataframe\n",
    "listings_amenities_pivot = listings_amenities_melt.pivot_table(\n",
    "    index='id',\n",
    "    columns='amenity_modified',\n",
    "    values='value', \n",
    "    aggfunc='max')\n",
    "\n",
    "listings_joined=listings.join(listings_amenities_pivot,on=\"id\",how=\"inner\")\n",
    "listings_joined.head()"
   ]
  },
  {
   "cell_type": "code",
   "execution_count": 53,
   "metadata": {},
   "outputs": [
    {
     "data": {
      "text/html": [
       "<div>\n",
       "<style scoped>\n",
       "    .dataframe tbody tr th:only-of-type {\n",
       "        vertical-align: middle;\n",
       "    }\n",
       "\n",
       "    .dataframe tbody tr th {\n",
       "        vertical-align: top;\n",
       "    }\n",
       "\n",
       "    .dataframe thead th {\n",
       "        text-align: right;\n",
       "    }\n",
       "</style>\n",
       "<table border=\"1\" class=\"dataframe\">\n",
       "  <thead>\n",
       "    <tr style=\"text-align: right;\">\n",
       "      <th></th>\n",
       "      <th>walk_score</th>\n",
       "      <th>transit_score</th>\n",
       "      <th>bike_score</th>\n",
       "      <th>id</th>\n",
       "      <th>host_id</th>\n",
       "      <th>host_is_superhost</th>\n",
       "      <th>neighbourhood_cleansed</th>\n",
       "      <th>neighbourhood_group_cleansed</th>\n",
       "      <th>property_type</th>\n",
       "      <th>room_type</th>\n",
       "      <th>...</th>\n",
       "      <th>Kitchen</th>\n",
       "      <th>Laundry Facility</th>\n",
       "      <th>Pet Friendly</th>\n",
       "      <th>Pool</th>\n",
       "      <th>Safety Features</th>\n",
       "      <th>Security Features</th>\n",
       "      <th>Smoking Allowed</th>\n",
       "      <th>Suitable for Events</th>\n",
       "      <th>TV</th>\n",
       "      <th>Weather Control</th>\n",
       "    </tr>\n",
       "  </thead>\n",
       "  <tbody>\n",
       "    <tr>\n",
       "      <th>0</th>\n",
       "      <td>83.0</td>\n",
       "      <td>61.0</td>\n",
       "      <td>61.0</td>\n",
       "      <td>241032</td>\n",
       "      <td>956883</td>\n",
       "      <td>f</td>\n",
       "      <td>West Queen Anne</td>\n",
       "      <td>Queen Anne</td>\n",
       "      <td>Apartment</td>\n",
       "      <td>Entire home/apt</td>\n",
       "      <td>...</td>\n",
       "      <td>True</td>\n",
       "      <td>True</td>\n",
       "      <td>False</td>\n",
       "      <td>False</td>\n",
       "      <td>False</td>\n",
       "      <td>False</td>\n",
       "      <td>False</td>\n",
       "      <td>False</td>\n",
       "      <td>True</td>\n",
       "      <td>True</td>\n",
       "    </tr>\n",
       "    <tr>\n",
       "      <th>1</th>\n",
       "      <td>83.0</td>\n",
       "      <td>61.0</td>\n",
       "      <td>61.0</td>\n",
       "      <td>953595</td>\n",
       "      <td>5177328</td>\n",
       "      <td>t</td>\n",
       "      <td>West Queen Anne</td>\n",
       "      <td>Queen Anne</td>\n",
       "      <td>Apartment</td>\n",
       "      <td>Entire home/apt</td>\n",
       "      <td>...</td>\n",
       "      <td>True</td>\n",
       "      <td>True</td>\n",
       "      <td>False</td>\n",
       "      <td>False</td>\n",
       "      <td>True</td>\n",
       "      <td>True</td>\n",
       "      <td>False</td>\n",
       "      <td>False</td>\n",
       "      <td>True</td>\n",
       "      <td>True</td>\n",
       "    </tr>\n",
       "    <tr>\n",
       "      <th>2</th>\n",
       "      <td>83.0</td>\n",
       "      <td>61.0</td>\n",
       "      <td>61.0</td>\n",
       "      <td>3308979</td>\n",
       "      <td>16708587</td>\n",
       "      <td>f</td>\n",
       "      <td>West Queen Anne</td>\n",
       "      <td>Queen Anne</td>\n",
       "      <td>House</td>\n",
       "      <td>Entire home/apt</td>\n",
       "      <td>...</td>\n",
       "      <td>True</td>\n",
       "      <td>True</td>\n",
       "      <td>True</td>\n",
       "      <td>False</td>\n",
       "      <td>True</td>\n",
       "      <td>False</td>\n",
       "      <td>False</td>\n",
       "      <td>False</td>\n",
       "      <td>True</td>\n",
       "      <td>True</td>\n",
       "    </tr>\n",
       "    <tr>\n",
       "      <th>3</th>\n",
       "      <td>83.0</td>\n",
       "      <td>61.0</td>\n",
       "      <td>61.0</td>\n",
       "      <td>7421966</td>\n",
       "      <td>9851441</td>\n",
       "      <td>f</td>\n",
       "      <td>West Queen Anne</td>\n",
       "      <td>Queen Anne</td>\n",
       "      <td>Apartment</td>\n",
       "      <td>Entire home/apt</td>\n",
       "      <td>...</td>\n",
       "      <td>True</td>\n",
       "      <td>True</td>\n",
       "      <td>False</td>\n",
       "      <td>False</td>\n",
       "      <td>True</td>\n",
       "      <td>True</td>\n",
       "      <td>False</td>\n",
       "      <td>False</td>\n",
       "      <td>False</td>\n",
       "      <td>True</td>\n",
       "    </tr>\n",
       "    <tr>\n",
       "      <th>4</th>\n",
       "      <td>83.0</td>\n",
       "      <td>61.0</td>\n",
       "      <td>61.0</td>\n",
       "      <td>278830</td>\n",
       "      <td>1452570</td>\n",
       "      <td>f</td>\n",
       "      <td>West Queen Anne</td>\n",
       "      <td>Queen Anne</td>\n",
       "      <td>House</td>\n",
       "      <td>Entire home/apt</td>\n",
       "      <td>...</td>\n",
       "      <td>True</td>\n",
       "      <td>False</td>\n",
       "      <td>False</td>\n",
       "      <td>False</td>\n",
       "      <td>True</td>\n",
       "      <td>False</td>\n",
       "      <td>False</td>\n",
       "      <td>False</td>\n",
       "      <td>True</td>\n",
       "      <td>True</td>\n",
       "    </tr>\n",
       "  </tbody>\n",
       "</table>\n",
       "<p>5 rows × 68 columns</p>\n",
       "</div>"
      ],
      "text/plain": [
       "   walk_score  transit_score  bike_score       id   host_id host_is_superhost  \\\n",
       "0        83.0           61.0        61.0   241032    956883                 f   \n",
       "1        83.0           61.0        61.0   953595   5177328                 t   \n",
       "2        83.0           61.0        61.0  3308979  16708587                 f   \n",
       "3        83.0           61.0        61.0  7421966   9851441                 f   \n",
       "4        83.0           61.0        61.0   278830   1452570                 f   \n",
       "\n",
       "  neighbourhood_cleansed neighbourhood_group_cleansed property_type  \\\n",
       "0        West Queen Anne                   Queen Anne     Apartment   \n",
       "1        West Queen Anne                   Queen Anne     Apartment   \n",
       "2        West Queen Anne                   Queen Anne         House   \n",
       "3        West Queen Anne                   Queen Anne     Apartment   \n",
       "4        West Queen Anne                   Queen Anne         House   \n",
       "\n",
       "         room_type  ...  Kitchen  Laundry Facility  Pet Friendly   Pool  \\\n",
       "0  Entire home/apt  ...     True              True         False  False   \n",
       "1  Entire home/apt  ...     True              True         False  False   \n",
       "2  Entire home/apt  ...     True              True          True  False   \n",
       "3  Entire home/apt  ...     True              True         False  False   \n",
       "4  Entire home/apt  ...     True             False         False  False   \n",
       "\n",
       "  Safety Features Security Features  Smoking Allowed  Suitable for Events  \\\n",
       "0           False             False            False                False   \n",
       "1            True              True            False                False   \n",
       "2            True             False            False                False   \n",
       "3            True              True            False                False   \n",
       "4            True             False            False                False   \n",
       "\n",
       "      TV Weather Control  \n",
       "0   True            True  \n",
       "1   True            True  \n",
       "2   True            True  \n",
       "3  False            True  \n",
       "4   True            True  \n",
       "\n",
       "[5 rows x 68 columns]"
      ]
     },
     "execution_count": 53,
     "metadata": {},
     "output_type": "execute_result"
    }
   ],
   "source": [
    "#Join neighscore data to dataframe\n",
    "\n",
    "listings_am_ns=pd.merge(neighscore, listings_joined, how='right', left_on=['name'], right_on=['neighbourhood_cleansed'])\n",
    "\n",
    "#Drop unused columns\n",
    "dcolumns = ['rank','name','population']\n",
    "listings_am_ns = listings_am_ns.drop(columns = dcolumns)\n",
    "\n",
    "listings_am_ns.head()"
   ]
  },
  {
   "cell_type": "code",
   "execution_count": 54,
   "metadata": {},
   "outputs": [
    {
     "data": {
      "text/plain": [
       "Series([], dtype: int64)"
      ]
     },
     "execution_count": 54,
     "metadata": {},
     "output_type": "execute_result"
    }
   ],
   "source": [
    "#Function for handling missing values for new columns from neighscore\n",
    "def handle_missing_remove_ns(df):\n",
    "    temp_df=df.copy()\n",
    "    temp_df.walk_score.fillna(0,inplace=True)\n",
    "    temp_df.bike_score.fillna(0,inplace=True)\n",
    "    temp_df.transit_score.fillna(0,inplace=True)\n",
    "    return temp_df\n",
    "\n",
    "listings_am_ns = handle_missing_remove_ns(listings_am_ns)\n",
    "show_missing_values(listings_am_ns)"
   ]
  },
  {
   "cell_type": "code",
   "execution_count": 81,
   "metadata": {},
   "outputs": [
    {
     "name": "stdout",
     "output_type": "stream",
     "text": [
      "<class 'pandas.core.frame.DataFrame'>\n",
      "Int64Index: 3057 entries, 0 to 3817\n",
      "Data columns (total 68 columns):\n",
      " #   Column                         Non-Null Count  Dtype  \n",
      "---  ------                         --------------  -----  \n",
      " 0   walk_score                     3057 non-null   float64\n",
      " 1   transit_score                  3057 non-null   float64\n",
      " 2   bike_score                     3057 non-null   float64\n",
      " 3   id                             3057 non-null   int64  \n",
      " 4   host_id                        3057 non-null   int64  \n",
      " 5   host_is_superhost              3057 non-null   object \n",
      " 6   neighbourhood_cleansed         3057 non-null   object \n",
      " 7   neighbourhood_group_cleansed   3057 non-null   object \n",
      " 8   property_type                  3057 non-null   object \n",
      " 9   room_type                      3057 non-null   object \n",
      " 10  accommodates                   3057 non-null   int64  \n",
      " 11  bathrooms                      3057 non-null   float64\n",
      " 12  bedrooms                       3057 non-null   float64\n",
      " 13  beds                           3057 non-null   float64\n",
      " 14  bed_type                       3057 non-null   object \n",
      " 15  amenities                      3057 non-null   object \n",
      " 16  price                          3057 non-null   float64\n",
      " 17  availability_365               3057 non-null   int64  \n",
      " 18  number_of_reviews              3057 non-null   int64  \n",
      " 19  instant_bookable               3057 non-null   object \n",
      " 20  cancellation_policy            3057 non-null   object \n",
      " 21  room_type_Entire home/apt      3057 non-null   uint8  \n",
      " 22  room_type_Private room         3057 non-null   uint8  \n",
      " 23  room_type_Shared room          3057 non-null   uint8  \n",
      " 24  property_type_0                3057 non-null   uint8  \n",
      " 25  property_type_Apartment        3057 non-null   uint8  \n",
      " 26  property_type_Bed & Breakfast  3057 non-null   uint8  \n",
      " 27  property_type_Boat             3057 non-null   uint8  \n",
      " 28  property_type_Bungalow         3057 non-null   uint8  \n",
      " 29  property_type_Cabin            3057 non-null   uint8  \n",
      " 30  property_type_Camper/RV        3057 non-null   uint8  \n",
      " 31  property_type_Chalet           3057 non-null   uint8  \n",
      " 32  property_type_Condominium      3057 non-null   uint8  \n",
      " 33  property_type_Dorm             3057 non-null   uint8  \n",
      " 34  property_type_House            3057 non-null   uint8  \n",
      " 35  property_type_Loft             3057 non-null   uint8  \n",
      " 36  property_type_Other            3057 non-null   uint8  \n",
      " 37  property_type_Tent             3057 non-null   uint8  \n",
      " 38  property_type_Townhouse        3057 non-null   uint8  \n",
      " 39  property_type_Treehouse        3057 non-null   uint8  \n",
      " 40  property_type_Yurt             3057 non-null   uint8  \n",
      " 41  bed_type_Airbed                3057 non-null   uint8  \n",
      " 42  bed_type_Couch                 3057 non-null   uint8  \n",
      " 43  bed_type_Futon                 3057 non-null   uint8  \n",
      " 44  bed_type_Pull-out Sofa         3057 non-null   uint8  \n",
      " 45  bed_type_Real Bed              3057 non-null   uint8  \n",
      " 46  cancellation_policy_flexible   3057 non-null   uint8  \n",
      " 47  cancellation_policy_moderate   3057 non-null   uint8  \n",
      " 48  cancellation_policy_strict     3057 non-null   uint8  \n",
      " 49  24-Hour Check-in               3057 non-null   bool   \n",
      " 50  Access Friendly                3057 non-null   bool   \n",
      " 51  Breakfast                      3057 non-null   bool   \n",
      " 52  Essentials                     3057 non-null   bool   \n",
      " 53  Family/Kid Friendly            3057 non-null   bool   \n",
      " 54  Free Parking on Premises       3057 non-null   bool   \n",
      " 55  Gym                            3057 non-null   bool   \n",
      " 56  Hot Tub                        3057 non-null   bool   \n",
      " 57  Internet                       3057 non-null   bool   \n",
      " 58  Kitchen                        3057 non-null   bool   \n",
      " 59  Laundry Facility               3057 non-null   bool   \n",
      " 60  Pet Friendly                   3057 non-null   bool   \n",
      " 61  Pool                           3057 non-null   bool   \n",
      " 62  Safety Features                3057 non-null   bool   \n",
      " 63  Security Features              3057 non-null   bool   \n",
      " 64  Smoking Allowed                3057 non-null   bool   \n",
      " 65  Suitable for Events            3057 non-null   bool   \n",
      " 66  TV                             3057 non-null   bool   \n",
      " 67  Weather Control                3057 non-null   bool   \n",
      "dtypes: bool(19), float64(7), int64(5), object(9), uint8(28)\n",
      "memory usage: 665.7+ KB\n",
      "<class 'pandas.core.frame.DataFrame'>\n",
      "Int64Index: 761 entries, 16 to 3812\n",
      "Data columns (total 68 columns):\n",
      " #   Column                         Non-Null Count  Dtype  \n",
      "---  ------                         --------------  -----  \n",
      " 0   walk_score                     761 non-null    float64\n",
      " 1   transit_score                  761 non-null    float64\n",
      " 2   bike_score                     761 non-null    float64\n",
      " 3   id                             761 non-null    int64  \n",
      " 4   host_id                        761 non-null    int64  \n",
      " 5   host_is_superhost              761 non-null    object \n",
      " 6   neighbourhood_cleansed         761 non-null    object \n",
      " 7   neighbourhood_group_cleansed   761 non-null    object \n",
      " 8   property_type                  761 non-null    object \n",
      " 9   room_type                      761 non-null    object \n",
      " 10  accommodates                   761 non-null    int64  \n",
      " 11  bathrooms                      761 non-null    float64\n",
      " 12  bedrooms                       761 non-null    float64\n",
      " 13  beds                           761 non-null    float64\n",
      " 14  bed_type                       761 non-null    object \n",
      " 15  amenities                      761 non-null    object \n",
      " 16  price                          761 non-null    float64\n",
      " 17  availability_365               761 non-null    int64  \n",
      " 18  number_of_reviews              761 non-null    int64  \n",
      " 19  instant_bookable               761 non-null    object \n",
      " 20  cancellation_policy            761 non-null    object \n",
      " 21  room_type_Entire home/apt      761 non-null    uint8  \n",
      " 22  room_type_Private room         761 non-null    uint8  \n",
      " 23  room_type_Shared room          761 non-null    uint8  \n",
      " 24  property_type_0                761 non-null    uint8  \n",
      " 25  property_type_Apartment        761 non-null    uint8  \n",
      " 26  property_type_Bed & Breakfast  761 non-null    uint8  \n",
      " 27  property_type_Boat             761 non-null    uint8  \n",
      " 28  property_type_Bungalow         761 non-null    uint8  \n",
      " 29  property_type_Cabin            761 non-null    uint8  \n",
      " 30  property_type_Camper/RV        761 non-null    uint8  \n",
      " 31  property_type_Chalet           761 non-null    uint8  \n",
      " 32  property_type_Condominium      761 non-null    uint8  \n",
      " 33  property_type_Dorm             761 non-null    uint8  \n",
      " 34  property_type_House            761 non-null    uint8  \n",
      " 35  property_type_Loft             761 non-null    uint8  \n",
      " 36  property_type_Other            761 non-null    uint8  \n",
      " 37  property_type_Tent             761 non-null    uint8  \n",
      " 38  property_type_Townhouse        761 non-null    uint8  \n",
      " 39  property_type_Treehouse        761 non-null    uint8  \n",
      " 40  property_type_Yurt             761 non-null    uint8  \n",
      " 41  bed_type_Airbed                761 non-null    uint8  \n",
      " 42  bed_type_Couch                 761 non-null    uint8  \n",
      " 43  bed_type_Futon                 761 non-null    uint8  \n",
      " 44  bed_type_Pull-out Sofa         761 non-null    uint8  \n",
      " 45  bed_type_Real Bed              761 non-null    uint8  \n",
      " 46  cancellation_policy_flexible   761 non-null    uint8  \n",
      " 47  cancellation_policy_moderate   761 non-null    uint8  \n",
      " 48  cancellation_policy_strict     761 non-null    uint8  \n",
      " 49  24-Hour Check-in               761 non-null    bool   \n",
      " 50  Access Friendly                761 non-null    bool   \n",
      " 51  Breakfast                      761 non-null    bool   \n",
      " 52  Essentials                     761 non-null    bool   \n",
      " 53  Family/Kid Friendly            761 non-null    bool   \n",
      " 54  Free Parking on Premises       761 non-null    bool   \n",
      " 55  Gym                            761 non-null    bool   \n",
      " 56  Hot Tub                        761 non-null    bool   \n",
      " 57  Internet                       761 non-null    bool   \n",
      " 58  Kitchen                        761 non-null    bool   \n",
      " 59  Laundry Facility               761 non-null    bool   \n",
      " 60  Pet Friendly                   761 non-null    bool   \n",
      " 61  Pool                           761 non-null    bool   \n",
      " 62  Safety Features                761 non-null    bool   \n",
      " 63  Security Features              761 non-null    bool   \n",
      " 64  Smoking Allowed                761 non-null    bool   \n",
      " 65  Suitable for Events            761 non-null    bool   \n",
      " 66  TV                             761 non-null    bool   \n",
      " 67  Weather Control                761 non-null    bool   \n",
      "dtypes: bool(19), float64(7), int64(5), object(9), uint8(28)\n",
      "memory usage: 165.7+ KB\n"
     ]
    }
   ],
   "source": [
    "#Creating the train and validation data split\n",
    "np.random.seed(2)\n",
    "train = np.random.choice([True, False], listings_am_ns.shape[0], replace=True, p=[0.8, 0.2])\n",
    "listings_train = listings_am_ns.iloc[train,:]\n",
    "listings_test = listings_am_ns.iloc[~train,:]\n",
    "\n",
    "listings_train.info()\n",
    "listings_test.info()"
   ]
  },
  {
   "cell_type": "code",
   "execution_count": 82,
   "metadata": {},
   "outputs": [],
   "source": [
    "#Creating model function\n",
    "def model_listing(regr,train_cols,target_col):\n",
    "    \n",
    "    x_train = listings_train[train_cols].values\n",
    "    x_test = listings_test[train_cols].values\n",
    "    y_train = listings_train[target_col].values\n",
    "    y_test = listings_test[target_col].values\n",
    "    \n",
    "    print(\"Shape of Train and Test data\")\n",
    "    print(x_train.shape, x_test.shape, y_train.shape, y_test.shape)\n",
    "    print(\" ------------------------------------------ \")\n",
    "    \n",
    "    rg = regr()\n",
    "\n",
    "    # Fit the model on to the training data( Train the model )\n",
    "    rg.fit(x_train, y_train)\n",
    "    \n",
    "    # Use the model to predict values\n",
    "    y_pred = rg.predict(x_train)\n",
    "\n",
    "    # Calculate the Mean Squared Error using the mean_squared_error function.\n",
    "    print(\"Training Data\")\n",
    "    print(\"R^2 value using score fn: %.3f\" % rg.score(x_train,y_train))\n",
    "    print(\"Mean Squared Error : %0.3f\" % mean_squared_error(y_train,y_pred))\n",
    "    print(\"Root Mean Squared Error : %0.3f\" % (mean_squared_error(y_train,y_pred))**0.5)\n",
    "    print(\" ------------------------------------------ \")\n",
    "    # Use the model to predict values\n",
    "    y_pred = rg.predict(x_test)\n",
    "\n",
    "    # Calculate the Mean Squared Error using the mean_squared_error function.\n",
    "    print(\"Test Data\")\n",
    "    print(\"R^2 value using score fn: %.3f\" % rg.score(x_test,y_test))\n",
    "    print(\"Mean Squared Error : %0.3f\" % mean_squared_error(y_test,y_pred))\n",
    "    print(\"Root Mean Squared Error : %0.3f\" % (mean_squared_error(y_test,y_pred)**0.5))\n",
    "    print(\" ------------------------------------------ \")\n",
    "    \n",
    "    lin_reg_coef = pd.DataFrame(list(zip(train_cols,(rg.coef_))),columns=['Feature','Coefficient'])\n",
    "    print(lin_reg_coef.sort_values(by='Coefficient',ascending=False))\n",
    "    print(\" ------------------------------------------ \")\n",
    "    \n",
    "    # Plot of model's residuals:\n",
    "    fig = plt.figure(figsize=(10,3))\n",
    "\n",
    "    sns.regplot(y_test,y_pred)\n",
    "    plt.title(\"Residuals for the model\")"
   ]
  },
  {
   "cell_type": "code",
   "execution_count": 83,
   "metadata": {},
   "outputs": [
    {
     "name": "stdout",
     "output_type": "stream",
     "text": [
      "Shape of Train and Test data\n",
      "(3057, 31) (761, 31) (3057,) (761,)\n",
      " ------------------------------------------ \n",
      "Training Data\n",
      "R^2 value using score fn: 0.538\n",
      "Mean Squared Error : 3376.105\n",
      "Root Mean Squared Error : 58.104\n",
      " ------------------------------------------ \n",
      "Test Data\n",
      "R^2 value using score fn: 0.464\n",
      "Mean Squared Error : 6152.554\n",
      "Root Mean Squared Error : 78.438\n",
      " ------------------------------------------ \n",
      "                         Feature  Coefficient\n",
      "6      room_type_Entire home/apt    68.711273\n",
      "2                      bathrooms    36.030926\n",
      "7         room_type_Private room    33.721521\n",
      "0                   accommodates    15.606565\n",
      "19                       Hot Tub    15.494887\n",
      "13               Access Friendly    13.995261\n",
      "18                           Gym     7.795424\n",
      "29                            TV     6.696154\n",
      "1                           beds     6.082570\n",
      "28           Suitable for Events     5.177680\n",
      "21                       Kitchen     3.739939\n",
      "3              bed_type_Real Bed     1.539431\n",
      "26             Security Features     1.375271\n",
      "4      property_type_Condominium     0.990913\n",
      "22              Laundry Facility    -0.011224\n",
      "10  cancellation_policy_flexible    -1.122111\n",
      "14                     Breakfast    -1.784048\n",
      "23                  Pet Friendly    -3.585185\n",
      "16           Family/Kid Friendly    -3.962747\n",
      "25               Safety Features    -5.569482\n",
      "30               Weather Control    -5.686436\n",
      "17      Free Parking on Premises    -5.764047\n",
      "5        property_type_Townhouse    -8.153557\n",
      "15                    Essentials    -8.227361\n",
      "20                      Internet    -8.353012\n",
      "11  cancellation_policy_moderate    -8.787540\n",
      "24                          Pool    -9.536788\n",
      "9            property_type_House    -9.625628\n",
      "27               Smoking Allowed   -13.693431\n",
      "12              24-Hour Check-in   -14.869793\n",
      "8        property_type_Apartment   -16.268527\n",
      " ------------------------------------------ \n"
     ]
    },
    {
     "data": {
      "image/png": "[encoded data removed]",
      "text/plain": [
       "<Figure size 720x216 with 1 Axes>"
      ]
     },
     "metadata": {
      "needs_background": "light"
     },
     "output_type": "display_data"
    }
   ],
   "source": [
    "#Linear Regression - Basic + Score + Amenities\n",
    "\n",
    "train_cols = [\n",
    "    'accommodates', \n",
    "    'beds','bathrooms',\n",
    "    'bed_type_Real Bed',\n",
    "    'property_type_Condominium','property_type_Townhouse',\n",
    "    'room_type_Entire home/apt', 'room_type_Private room',\n",
    "    'property_type_Apartment','property_type_House', \n",
    "    'cancellation_policy_flexible', 'cancellation_policy_moderate',\n",
    "    '24-Hour Check-in', 'Access Friendly', 'Breakfast', 'Essentials',\n",
    "       'Family/Kid Friendly', 'Free Parking on Premises', 'Gym', 'Hot Tub',\n",
    "       'Internet', 'Kitchen', 'Laundry Facility', 'Pet Friendly', 'Pool',\n",
    "       'Safety Features', 'Security Features', 'Smoking Allowed',\n",
    "       'Suitable for Events', 'TV', 'Weather Control','walk_score','transit_score','bike_score'\n",
    "    \n",
    "]\n",
    "\n",
    "target_col = 'price'\n",
    "\n",
    "model_listing(LinearRegression,train_cols,target_col)"
   ]
  },
  {
   "cell_type": "code",
   "execution_count": 84,
   "metadata": {},
   "outputs": [
    {
     "name": "stdout",
     "output_type": "stream",
     "text": [
      "(3057, 31) (761, 31) (3057,) (761,)\n"
     ]
    },
    {
     "data": {
      "text/plain": [
       "<AxesSubplot:xlabel='feature'>"
      ]
     },
     "execution_count": 84,
     "metadata": {},
     "output_type": "execute_result"
    },
    {
     "data": {
      "image/png": "[encoded data removed]",
      "text/plain": [
       "<Figure size 432x288 with 1 Axes>"
      ]
     },
     "metadata": {
      "needs_background": "light"
     },
     "output_type": "display_data"
    }
   ],
   "source": [
    "# Random Forest Model\n",
    "train_cols = [\n",
    "    'accommodates', \n",
    "    'beds','bathrooms',\n",
    "    'bed_type_Real Bed',\n",
    "    'property_type_Condominium','property_type_Townhouse',\n",
    "    'room_type_Entire home/apt', 'room_type_Private room',\n",
    "    'property_type_Apartment','property_type_House', \n",
    "    'cancellation_policy_flexible', 'cancellation_policy_moderate',\n",
    "    '24-Hour Check-in', 'Access Friendly', 'Breakfast', 'Essentials',\n",
    "       'Family/Kid Friendly', 'Free Parking on Premises', 'Gym', 'Hot Tub',\n",
    "       'Internet', 'Kitchen', 'Laundry Facility', 'Pet Friendly', 'Pool',\n",
    "       'Safety Features', 'Security Features', 'Smoking Allowed',\n",
    "       'Suitable for Events', 'TV', 'Weather Control','walk_score','transit_score','bike_score'\n",
    "    \n",
    "]\n",
    "\n",
    "target_col = 'price'\n",
    "\n",
    "x_train = listings_train[train_cols].values\n",
    "x_test = listings_test[train_cols].values\n",
    "y_train = listings_train[target_col].values\n",
    "y_test = listings_test[target_col].values\n",
    "\n",
    "print(x_train.shape, x_test.shape, y_train.shape, y_test.shape)\n",
    "\n",
    "#Create a random forest regressor\n",
    "clf = RandomForestRegressor(max_depth=10, n_estimators=100)\n",
    "\n",
    "#Train the regressor\n",
    "clf.fit(x_train, y_train)\n",
    "\n",
    "#Plot variable importances for the top 10 predictors\n",
    "importances = clf.feature_importances_\n",
    "feat_names = train_cols\n",
    "tree_result = pd.DataFrame({'feature': feat_names, 'importance': importances})\n",
    "tree_result.sort_values(by='importance',ascending=False)[:10].plot(x='feature', y='importance', kind='bar',color='blue')"
   ]
  },
  {
   "cell_type": "code",
   "execution_count": 85,
   "metadata": {},
   "outputs": [
    {
     "name": "stdout",
     "output_type": "stream",
     "text": [
      "Training Data\n",
      "R^2 value using score fn: 0.809\n",
      "Mean Squared Error : 1394.751\n",
      "Root Mean Squared Error : 37.346\n",
      " ------------------------------------------ \n",
      "Test Data\n",
      "R^2 value using score fn: 0.472\n",
      "Mean Squared Error : 6059.244\n",
      "Root Mean Squared Error : 77.841\n",
      " ----------------------------------- \n"
     ]
    },
    {
     "data": {
      "text/plain": [
       "Text(0.5, 1.0, 'Residuals for the model')"
      ]
     },
     "execution_count": 85,
     "metadata": {},
     "output_type": "execute_result"
    },
    {
     "data": {
      "image/png": "[encoded data removed]",
      "text/plain": [
       "<Figure size 720x216 with 1 Axes>"
      ]
     },
     "metadata": {
      "needs_background": "light"
     },
     "output_type": "display_data"
    }
   ],
   "source": [
    "# Use the model to predict values\n",
    "y_pred = clf.predict(x_train)\n",
    "\n",
    "# Calculate the Mean Squared Error using the mean_squared_error function.\n",
    "print(\"Training Data\")\n",
    "print(\"R^2 value using score fn: %.3f\" % clf.score(x_train,y_train))\n",
    "print(\"Mean Squared Error : %0.3f\" % mean_squared_error(y_train,y_pred))\n",
    "print(\"Root Mean Squared Error : %0.3f\" % (mean_squared_error(y_train,y_pred))**0.5)\n",
    "\n",
    "\n",
    "print(\" ------------------------------------------ \")\n",
    "\n",
    "# Use the model to predict values\n",
    "y_pred = clf.predict(x_test)\n",
    "\n",
    "# Calculate the Mean Squared Error using the mean_squared_error function.\n",
    "print(\"Test Data\")\n",
    "print(\"R^2 value using score fn: %.3f\" % clf.score(x_test,y_test))\n",
    "print(\"Mean Squared Error : %0.3f\" % mean_squared_error(y_test,y_pred))\n",
    "print(\"Root Mean Squared Error : %0.3f\" % (mean_squared_error(y_test,y_pred))**0.5)\n",
    "\n",
    "print(\" ----------------------------------- \")\n",
    "\n",
    "# Plot of model's residuals:\n",
    "fig = plt.figure(figsize=(10,3))\n",
    "\n",
    "sns.regplot((y_test),(y_pred))\n",
    "plt.title(\"Residuals for the model\")"
   ]
  },
  {
   "cell_type": "markdown",
   "metadata": {},
   "source": [
    "### Conclusions"
   ]
  },
  {
   "cell_type": "markdown",
   "metadata": {},
   "source": [
    "##### Price Prediction\n",
    "\n",
    "A linear regression model and random forest model was applied to the dataset to determine the predictors of price of an AirBnB rental in Seattle. The random forest model produced a better training model compared to the linear regression with a higher R-squared value. The highest predictor of price from the random forest model is how many people the room will accommodate, followed by the number of bathrooms. Please note that the random forest model training data accuracy is above 80%, yet the test data accuracy is 48%, possibly an overfitting of the model.\n",
    "\n",
    "\n"
   ]
  },
  {
   "cell_type": "markdown",
   "metadata": {},
   "source": [
    "##### Property Owners\n",
    "Regarding the price, an owner of the property can expect to see in the Seattle market to be quite competitive. Most properties in the Seattle market are priced at under $100 per night. A property in the Magnolia neighborhood can be priced slightly higher than other neighborhoods, since there are few listings. Additionally, if the rental can accommodate more guests it can translate to a higher rental price.\n"
   ]
  },
  {
   "cell_type": "markdown",
   "metadata": {},
   "source": [
    "##### Customers\n",
    "For a customer/renter looking at listings on AirBnB in the Seattle market, they can prepare for a better cost knowing when and what to book. Rentals during the summer months June through August are the highest. The Capital Hill neighborhood has the highest number of listings with a relatively competitive price. If the renter needs to accomodate a higher number of guests with them then they can expect to pay a higher price. Although 2/3's of the listings are for entire homes or apartments, renting a shared or private room could possibly be at a lower price."
   ]
  }
 ],
 "metadata": {
  "kernelspec": {
   "display_name": "Python 3",
   "language": "python",
   "name": "python3"
  },
  "language_info": {
   "codemirror_mode": {
    "name": "ipython",
    "version": 3
   },
   "file_extension": ".py",
   "mimetype": "text/x-python",
   "name": "python",
   "nbconvert_exporter": "python",
   "pygments_lexer": "ipython3",
   "version": "3.8.5"
  }
 },
 "nbformat": 4,
 "nbformat_minor": 4
}
